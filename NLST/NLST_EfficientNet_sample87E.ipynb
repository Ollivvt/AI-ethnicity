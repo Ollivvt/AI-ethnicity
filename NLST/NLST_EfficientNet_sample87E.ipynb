{
 "cells": [
  {
   "cell_type": "markdown",
   "metadata": {},
   "source": [
    "### Races with equal number 87 (using the smallest class size to ensure balance)"
   ]
  },
  {
   "cell_type": "code",
   "execution_count": 2,
   "metadata": {},
   "outputs": [],
   "source": [
    "import pandas as pd\n",
    "import numpy as np\n",
    "import os\n",
    "import pydicom\n",
    "from PIL import Image\n",
    "from sklearn.model_selection import train_test_split"
   ]
  },
  {
   "cell_type": "code",
   "execution_count": 3,
   "metadata": {},
   "outputs": [],
   "source": [
    "# Load the CSV file\n",
    "data_path = 'U:/GitHub/AI-ethnicity-med-image/data/filtered_lung_ct_images.csv'\n",
    "df = pd.read_csv(data_path)"
   ]
  },
  {
   "cell_type": "code",
   "execution_count": 5,
   "metadata": {},
   "outputs": [],
   "source": [
    "# Group by 'Subject ID' to handle multiple images per patient\n",
    "grouped = df.groupby('Subject ID')\n",
    "\n",
    "# Randomly select one image per patient\n",
    "df_single_image_per_patient = grouped.apply(lambda x: x.sample(1, random_state=42)).reset_index(drop=True)\n",
    "\n",
    "# Label mapping for converting race categories to integers\n",
    "label_mapping = {\n",
    "    \"White\": 0,\n",
    "    \"Black or African-American\": 1,\n",
    "    \"Asian\": 2,\n",
    "    \"American Indian or Alaskan Native\": 3,\n",
    "    \"Native Hawaiian or Other Pacific Islander\": 4\n",
    "}\n",
    "\n",
    "# Convert the 'Patient Race' to integer labels\n",
    "df_single_image_per_patient['Race_Label'] = df_single_image_per_patient['Patient Race'].map(label_mapping)"
   ]
  },
  {
   "cell_type": "code",
   "execution_count": 6,
   "metadata": {},
   "outputs": [
    {
     "name": "stdout",
     "output_type": "stream",
     "text": [
      "Number of unique patients: 25543\n",
      "Number of images after selecting one per patient: 25543\n"
     ]
    }
   ],
   "source": [
    "num_patients = df_single_image_per_patient['Subject ID'].nunique()\n",
    "num_images = len(df_single_image_per_patient)\n",
    "\n",
    "# Print the results\n",
    "print(f\"Number of unique patients: {num_patients}\")\n",
    "print(f\"Number of images after selecting one per patient: {num_images}\")"
   ]
  },
  {
   "cell_type": "code",
   "execution_count": 7,
   "metadata": {},
   "outputs": [
    {
     "name": "stdout",
     "output_type": "stream",
     "text": [
      "Class distribution after cleaning:\n",
      "White                                        23693\n",
      "Black or African-American                     1134\n",
      "Asian                                          543\n",
      "Native Hawaiian or Other Pacific Islander       87\n",
      "American Indian or Alaskan Native               86\n",
      "Name: Patient Race, dtype: int64\n"
     ]
    },
    {
     "data": {
      "image/png": "[encoded data removed]",
      "text/plain": [
       "<Figure size 432x288 with 1 Axes>"
      ]
     },
     "metadata": {
      "needs_background": "light"
     },
     "output_type": "display_data"
    }
   ],
   "source": [
    "import matplotlib.pyplot as plt\n",
    "# Check class distribution\n",
    "print(\"Class distribution after cleaning:\")\n",
    "print(df_single_image_per_patient['Patient Race'].value_counts())\n",
    "\n",
    "# Plot class distribution\n",
    "df_single_image_per_patient['Patient Race'].value_counts().plot(kind='bar', title=\"Class Distribution of Patient Race\", xlabel=\"Race\", ylabel=\"Count\")\n",
    "plt.show()"
   ]
  },
  {
   "cell_type": "code",
   "execution_count": 8,
   "metadata": {},
   "outputs": [
    {
     "name": "stdout",
     "output_type": "stream",
     "text": [
      "Class distribution after resampling:\n",
      "Native Hawaiian or Other Pacific Islander    86\n",
      "American Indian or Alaskan Native            86\n",
      "White                                        86\n",
      "Asian                                        86\n",
      "Black or African-American                    86\n",
      "Name: Patient Race, dtype: int64\n"
     ]
    }
   ],
   "source": [
    "# Define the number of samples for each class (using the smallest class size to ensure balance)\n",
    "min_class_size = min(df_single_image_per_patient['Patient Race'].value_counts())\n",
    "\n",
    "# Resample each race to have an equal number of instances\n",
    "df_balanced = df_single_image_per_patient.groupby('Patient Race', group_keys=False).apply(\n",
    "    lambda x: x.sample(min_class_size, random_state=42))\n",
    "\n",
    "# Check the class distribution after resampling\n",
    "print(\"Class distribution after resampling:\")\n",
    "print(df_balanced['Patient Race'].value_counts())"
   ]
  },
  {
   "cell_type": "code",
   "execution_count": 9,
   "metadata": {},
   "outputs": [
    {
     "name": "stdout",
     "output_type": "stream",
     "text": [
      "Shape of the cleaned DataFrame: (430, 4)\n"
     ]
    }
   ],
   "source": [
    "print(\"Shape of the cleaned DataFrame:\", df_balanced.shape)"
   ]
  },
  {
   "cell_type": "code",
   "execution_count": 10,
   "metadata": {},
   "outputs": [],
   "source": [
    "# Split the data into training and validation sets (stratified by race)\n",
    "X_train, X_val, y_train, y_val = train_test_split(\n",
    "    df_balanced['File Location'],  # File paths to the DICOM images\n",
    "    df_balanced['Race_Label'],     # Race labels as integers\n",
    "    test_size=0.2, \n",
    "    stratify=df_balanced['Patient Race'], \n",
    "    random_state=42\n",
    ")"
   ]
  },
  {
   "cell_type": "code",
   "execution_count": 11,
   "metadata": {},
   "outputs": [
    {
     "name": "stdout",
     "output_type": "stream",
     "text": [
      "u:\\GitHub\\AI-ethnicity-med-image\n"
     ]
    }
   ],
   "source": [
    "current_path = os.getcwd()\n",
    "print(current_path)"
   ]
  },
  {
   "cell_type": "code",
   "execution_count": 12,
   "metadata": {},
   "outputs": [
    {
     "name": "stdout",
     "output_type": "stream",
     "text": [
      "E:\\Data\\NLST\\Radiology CT Images\\manifest-NLST_allCT\n"
     ]
    }
   ],
   "source": [
    "# Change to current directory\n",
    "os.chdir(r'E:\\Data\\NLST\\Radiology CT Images\\manifest-NLST_allCT')\n",
    "print(os.getcwd())"
   ]
  },
  {
   "cell_type": "code",
   "execution_count": 13,
   "metadata": {},
   "outputs": [],
   "source": [
    "# Preprocess images for model input\n",
    "def preprocess_images(file_paths, labels):\n",
    "    image_data = []\n",
    "    processed_labels = []\n",
    "    \n",
    "    # Ensure only one image per patient (process the first DICOM file found)\n",
    "    for file_path, label in zip(file_paths, labels):\n",
    "        dicom_folder = file_path  # Path to the folder containing DICOM images\n",
    "        dicom_files = [f for f in os.listdir(dicom_folder) if f.endswith('.dcm')]  # List DICOM files\n",
    "        \n",
    "        if dicom_files:\n",
    "            dicom_file = dicom_files[0]  # Select the first DICOM file only\n",
    "            dicom_path = os.path.join(dicom_folder, dicom_file)\n",
    "            ds = pydicom.dcmread(dicom_path)  # Read the DICOM file\n",
    "            img_array = ds.pixel_array  # Extract pixel array\n",
    "\n",
    "            # Normalize the image\n",
    "            img_array = img_array / np.max(img_array)  # Normalize to [0, 1]\n",
    "\n",
    "            # Resize the image\n",
    "            img = Image.fromarray(img_array)  # Convert to PIL image\n",
    "            img = img.resize((224, 224))  # Resize to 224x224 pixels\n",
    "            img_array_resized = np.array(img)  # Convert back to numpy array\n",
    "\n",
    "            # Convert grayscale image to 3-channel RGB by repeating the single channel 3 times\n",
    "            img_array_rgb = np.stack([img_array_resized] * 3, axis=-1)\n",
    "\n",
    "            image_data.append(img_array_rgb)\n",
    "            processed_labels.append(label)  # Append the corresponding label\n",
    "    \n",
    "    return np.array(image_data), np.array(processed_labels)"
   ]
  },
  {
   "cell_type": "code",
   "execution_count": 14,
   "metadata": {},
   "outputs": [],
   "source": [
    "# Preprocess images for training and validation sets (ensure 1 image per patient)\n",
    "X_train_images, y_train_labels = preprocess_images(X_train, y_train)\n",
    "X_val_images, y_val_labels = preprocess_images(X_val, y_val)"
   ]
  },
  {
   "cell_type": "code",
   "execution_count": 15,
   "metadata": {},
   "outputs": [
    {
     "name": "stdout",
     "output_type": "stream",
     "text": [
      "Number of training images: 344\n",
      "Number of validation images: 86\n",
      "Number of training labels: 344\n",
      "Number of validation labels: 86\n"
     ]
    }
   ],
   "source": [
    "# Check the number of images\n",
    "num_train_images = X_train_images.shape[0]\n",
    "num_val_images = X_val_images.shape[0]\n",
    "\n",
    "print(f\"Number of training images: {num_train_images}\")\n",
    "print(f\"Number of validation images: {num_val_images}\")\n",
    "print(f\"Number of training labels: {len(y_train_labels)}\")\n",
    "print(f\"Number of validation labels: {len(y_val_labels)}\")\n"
   ]
  },
  {
   "cell_type": "code",
   "execution_count": 16,
   "metadata": {},
   "outputs": [],
   "source": [
    "import tensorflow as tf\n",
    "from tensorflow.keras.applications import EfficientNetB0\n",
    "from tensorflow.keras.layers import Dense, Flatten, Dropout\n",
    "from tensorflow.keras.models import Model\n",
    "from tensorflow.keras.optimizers import Adam"
   ]
  },
  {
   "cell_type": "code",
   "execution_count": 17,
   "metadata": {},
   "outputs": [],
   "source": [
    "# Load the pre-trained EfficientNetB0 model without the top layer\n",
    "base_model = EfficientNetB0(weights='imagenet', include_top=False, input_shape=(224, 224, 3))\n",
    "\n",
    "# Freeze the base model\n",
    "base_model.trainable = False\n",
    "\n",
    "# Add custom layers on top of the pre-trained model\n",
    "x = base_model.output\n",
    "x = Flatten()(x)  # Flatten the output\n",
    "x = Dense(512, activation='relu')(x)  # Fully connected layer\n",
    "x = Dropout(0.5)(x)  # Dropout for regularization\n",
    "num_classes = 5\n",
    "output = Dense(num_classes, activation='softmax')(x)  # Output layer with softmax activation for multiclass classification"
   ]
  },
  {
   "cell_type": "code",
   "execution_count": 18,
   "metadata": {},
   "outputs": [
    {
     "name": "stdout",
     "output_type": "stream",
     "text": [
      "Epoch 1/10\n",
      "11/11 [==============================] - 24s 2s/step - loss: 1.8138 - accuracy: 0.2500 - val_loss: 1.4174 - val_accuracy: 0.3023\n",
      "Epoch 2/10\n",
      "11/11 [==============================] - 19s 2s/step - loss: 1.6529 - accuracy: 0.2558 - val_loss: 1.3899 - val_accuracy: 0.3488\n",
      "Epoch 3/10\n",
      "11/11 [==============================] - 18s 2s/step - loss: 1.5704 - accuracy: 0.2820 - val_loss: 1.3407 - val_accuracy: 0.3372\n",
      "Epoch 4/10\n",
      "11/11 [==============================] - 18s 2s/step - loss: 1.4977 - accuracy: 0.2994 - val_loss: 1.3602 - val_accuracy: 0.3372\n",
      "Epoch 5/10\n",
      "11/11 [==============================] - 17s 2s/step - loss: 1.5603 - accuracy: 0.3081 - val_loss: 1.3392 - val_accuracy: 0.3372\n",
      "Epoch 6/10\n",
      "11/11 [==============================] - 17s 2s/step - loss: 1.4669 - accuracy: 0.3169 - val_loss: 1.3438 - val_accuracy: 0.3488\n",
      "Epoch 7/10\n",
      "11/11 [==============================] - 17s 2s/step - loss: 1.4549 - accuracy: 0.2907 - val_loss: 1.3283 - val_accuracy: 0.3721\n",
      "Epoch 8/10\n",
      "11/11 [==============================] - 17s 2s/step - loss: 1.4925 - accuracy: 0.2791 - val_loss: 1.3252 - val_accuracy: 0.3605\n",
      "Epoch 9/10\n",
      "11/11 [==============================] - 17s 2s/step - loss: 1.4507 - accuracy: 0.2994 - val_loss: 1.3262 - val_accuracy: 0.3488\n",
      "Epoch 10/10\n",
      "11/11 [==============================] - 17s 2s/step - loss: 1.4426 - accuracy: 0.3081 - val_loss: 1.3298 - val_accuracy: 0.3488\n"
     ]
    },
    {
     "name": "stderr",
     "output_type": "stream",
     "text": [
      "c:\\Users\\yuting.tseng\\AppData\\Local\\anaconda3\\envs\\dicom_env\\lib\\site-packages\\keras\\utils\\generic_utils.py:497: CustomMaskWarning: Custom mask layers require a config and must override get_config. When loading, the custom mask layer must be passed to the custom_objects argument.\n",
      "  category=CustomMaskWarning)\n"
     ]
    }
   ],
   "source": [
    "# Create the complete model\n",
    "model = Model(inputs=base_model.input, outputs=output)\n",
    "\n",
    "# Compile the model\n",
    "model.compile(optimizer=Adam(learning_rate=1e-5), loss='sparse_categorical_crossentropy', metrics=['accuracy'])\n",
    "\n",
    "# Train the model using the generator\n",
    "history = model.fit(X_train_images, \n",
    "                    y_train_labels, \n",
    "                    validation_data=(X_val_images, y_val_labels), \n",
    "                    epochs=10, \n",
    "                    batch_size=32)\n",
    "\n",
    "# Save the model\n",
    "model.save('ethnicity_classification_model.h5')"
   ]
  },
  {
   "cell_type": "code",
   "execution_count": 19,
   "metadata": {},
   "outputs": [],
   "source": [
    "import matplotlib.pyplot as plt\n",
    "from sklearn.metrics import confusion_matrix, accuracy_score, classification_report\n",
    "import seaborn as sns"
   ]
  },
  {
   "cell_type": "code",
   "execution_count": 20,
   "metadata": {},
   "outputs": [
    {
     "data": {
      "image/png": "[encoded data removed]",
      "text/plain": [
       "<Figure size 432x288 with 1 Axes>"
      ]
     },
     "metadata": {
      "needs_background": "light"
     },
     "output_type": "display_data"
    },
    {
     "data": {
      "image/png": "[encoded data removed]",
      "text/plain": [
       "<Figure size 432x288 with 1 Axes>"
      ]
     },
     "metadata": {
      "needs_background": "light"
     },
     "output_type": "display_data"
    }
   ],
   "source": [
    "# Plot training & validation accuracy\n",
    "plt.plot(history.history['accuracy'])\n",
    "plt.plot(history.history['val_accuracy'])\n",
    "plt.title('Model accuracy')\n",
    "plt.ylabel('Accuracy')\n",
    "plt.xlabel('Epoch')\n",
    "plt.legend(['Train', 'Validation'], loc='upper left')\n",
    "plt.show()\n",
    "\n",
    "# Plot training & validation loss\n",
    "plt.plot(history.history['loss'])\n",
    "plt.plot(history.history['val_loss'])\n",
    "plt.title('Model loss')\n",
    "plt.ylabel('Loss')\n",
    "plt.xlabel('Epoch')\n",
    "plt.legend(['Train', 'Validation'], loc='upper left')\n",
    "plt.show()\n"
   ]
  },
  {
   "cell_type": "code",
   "execution_count": 21,
   "metadata": {},
   "outputs": [],
   "source": [
    "# Make predictions on the validation set\n",
    "y_pred = model.predict(X_val_images)\n",
    "\n",
    "# Convert predicted probabilities to class labels\n",
    "y_pred_labels = np.argmax(y_pred, axis=1)"
   ]
  },
  {
   "cell_type": "code",
   "execution_count": 22,
   "metadata": {},
   "outputs": [
    {
     "name": "stdout",
     "output_type": "stream",
     "text": [
      "Accuracy: 0.3488\n"
     ]
    },
    {
     "data": {
      "image/png": "[encoded data removed]",
      "text/plain": [
       "<Figure size 576x432 with 2 Axes>"
      ]
     },
     "metadata": {
      "needs_background": "light"
     },
     "output_type": "display_data"
    }
   ],
   "source": [
    "# Create a confusion matrix\n",
    "cm = confusion_matrix(y_val_labels, y_pred_labels)\n",
    "\n",
    "cma = cm.astype('float') / cm.sum(axis=1)[:, np.newaxis]\n",
    "\n",
    "# Define race labels\n",
    "race_labels = ['W', 'B/AF', 'A', 'AI/AN', 'NH/PA']\n",
    "\n",
    "# Calculate accuracy\n",
    "accuracy = accuracy_score(y_val_labels, y_pred_labels)\n",
    "print(f\"Accuracy: {accuracy:.4f}\")\n",
    "\n",
    "# Plot the confusion matrix\n",
    "plt.figure(figsize=(8,6))\n",
    "sns.heatmap(cma, annot=True, fmt='.2f', cmap='Blues', xticklabels=race_labels, yticklabels=race_labels)\n",
    "plt.xlabel('Predicted Race')\n",
    "plt.ylabel('True Race')\n",
    "plt.title(f'Confusion Matrix - Ethnicity Classification (Accuracy: {accuracy:.2f})')\n",
    "plt.show()"
   ]
  },
  {
   "cell_type": "code",
   "execution_count": 23,
   "metadata": {},
   "outputs": [
    {
     "name": "stdout",
     "output_type": "stream",
     "text": [
      "Classification Report:\n",
      "                                           precision    recall  f1-score   support\n",
      "\n",
      "                                    White       0.27      1.00      0.43        17\n",
      "                Black or African-American       1.00      0.00      0.00        17\n",
      "                                    Asian       0.46      0.35      0.40        17\n",
      "        American Indian or Alaskan Native       1.00      0.00      0.00        17\n",
      "Native Hawaiian or Other Pacific Islander       0.64      0.39      0.48        18\n",
      "\n",
      "                                 accuracy                           0.35        86\n",
      "                                macro avg       0.67      0.35      0.26        86\n",
      "                             weighted avg       0.67      0.35      0.27        86\n",
      "\n"
     ]
    }
   ],
   "source": [
    "# Print a detailed classification report\n",
    "print(\"Classification Report:\")\n",
    "print(classification_report(y_val_labels, y_pred_labels, target_names=label_mapping.keys(), zero_division=1))"
   ]
  }
 ],
 "metadata": {
  "kernelspec": {
   "display_name": "dicom_env",
   "language": "python",
   "name": "python3"
  },
  "language_info": {
   "codemirror_mode": {
    "name": "ipython",
    "version": 3
   },
   "file_extension": ".py",
   "mimetype": "text/x-python",
   "name": "python",
   "nbconvert_exporter": "python",
   "pygments_lexer": "ipython3",
   "version": "3.6.13"
  }
 },
 "nbformat": 4,
 "nbformat_minor": 2
}
