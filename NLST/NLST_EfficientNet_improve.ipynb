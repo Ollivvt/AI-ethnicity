{
 "cells": [
  {
   "cell_type": "code",
   "execution_count": 1,
   "metadata": {},
   "outputs": [],
   "source": [
    "import pandas as pd\n",
    "import numpy as np\n",
    "import os\n",
    "import pydicom\n",
    "from PIL import Image\n",
    "from sklearn.model_selection import train_test_split\n",
    "import tensorflow as tf\n",
    "from tensorflow.keras.applications import EfficientNetB0\n",
    "from tensorflow.keras.layers import Dense, Flatten, Dropout\n",
    "from tensorflow.keras.models import Model\n",
    "from tensorflow.keras.optimizers import Adam\n",
    "from tensorflow.keras.preprocessing.image import ImageDataGenerator"
   ]
  },
  {
   "cell_type": "code",
   "execution_count": 2,
   "metadata": {},
   "outputs": [
    {
     "name": "stderr",
     "output_type": "stream",
     "text": [
      "c:\\Users\\yuting.tseng\\AppData\\Local\\anaconda3\\envs\\dicom_env\\lib\\site-packages\\IPython\\core\\interactiveshell.py:3072: DtypeWarning: Columns (18) have mixed types.Specify dtype option on import or set low_memory=False.\n",
      "  interactivity=interactivity, compiler=compiler, result=result)\n"
     ]
    }
   ],
   "source": [
    "# Load the CSV file\n",
    "data_path = 'U:/GitHub/AI-ethnicity-med-image/data/NLST_CT_withPID.csv'\n",
    "df = pd.read_csv(data_path)\n",
    "\n",
    "# Define the mapping for the selected categories\n",
    "race_mapping = {\n",
    "    1: \"White\",\n",
    "    2: \"Black or African-American\",\n",
    "    3: \"Asian\",\n",
    "    4: \"American Indian or Alaskan Native\",\n",
    "    5: \"Native Hawaiian or Other Pacific Islander\"\n",
    "}\n",
    "\n",
    "# Map the 'Patient Race' column to the corresponding strings\n",
    "df['Patient Race'] = df['Patient Race'].map(race_mapping)\n",
    "\n",
    "# Drop rows where 'Patient Race' is NaN (i.e., excluded categories)\n",
    "df_cleaned = df.dropna(subset=['Patient Race'])"
   ]
  },
  {
   "cell_type": "code",
   "execution_count": 13,
   "metadata": {},
   "outputs": [],
   "source": [
    "# Ensure unique patients and handle multiple images by selecting one per patient\n",
    "grouped = df_cleaned.groupby('Subject ID')\n",
    "df_single_image_per_patient = grouped.apply(lambda x: x.sample(1, random_state=42)).reset_index(drop=True)\n",
    "\n",
    "# Convert 'Patient Race' to integer labels\n",
    "label_mapping = {\n",
    "    \"White\": 0,\n",
    "    \"Black or African-American\": 1,\n",
    "    \"Asian\": 2,\n",
    "    \"American Indian or Alaskan Native\": 3,\n",
    "    \"Native Hawaiian or Other Pacific Islander\": 4\n",
    "}\n",
    "df_single_image_per_patient['Race_Label'] = df_single_image_per_patient['Patient Race'].map(label_mapping)\n",
    "\n",
    "# Sample a maximum number of images per patient (1 image per unique patient)\n",
    "sampled_df = df_single_image_per_patient.sample(n=2000, random_state=42)"
   ]
  },
  {
   "cell_type": "code",
   "execution_count": 14,
   "metadata": {},
   "outputs": [],
   "source": [
    "# Split data, maintaining class proportions\n",
    "X_train, X_val, y_train, y_val = train_test_split(\n",
    "    sampled_df['File Location'],\n",
    "    sampled_df['Race_Label'],\n",
    "    test_size=0.2,\n",
    "    stratify=sampled_df['Race_Label'],\n",
    "    random_state=42\n",
    ")"
   ]
  },
  {
   "cell_type": "code",
   "execution_count": 15,
   "metadata": {},
   "outputs": [
    {
     "name": "stdout",
     "output_type": "stream",
     "text": [
      "E:\\Data\\NLST\\Radiology CT Images\\manifest-NLST_allCT\n"
     ]
    }
   ],
   "source": [
    "current_path = os.getcwd()\n",
    "print(current_path)"
   ]
  },
  {
   "cell_type": "code",
   "execution_count": 16,
   "metadata": {},
   "outputs": [
    {
     "name": "stdout",
     "output_type": "stream",
     "text": [
      "E:\\Data\\NLST\\Radiology CT Images\\manifest-NLST_allCT\n"
     ]
    }
   ],
   "source": [
    "# Change to current directory\n",
    "os.chdir(r'E:\\Data\\NLST\\Radiology CT Images\\manifest-NLST_allCT')\n",
    "print(os.getcwd())"
   ]
  },
  {
   "cell_type": "code",
   "execution_count": 17,
   "metadata": {},
   "outputs": [],
   "source": [
    "# Apply data augmentation on minority classes to oversample\n",
    "datagen = ImageDataGenerator(\n",
    "    rotation_range=20,\n",
    "    width_shift_range=0.2,\n",
    "    height_shift_range=0.2,\n",
    "    horizontal_flip=True,\n",
    "    zoom_range=0.2\n",
    ")"
   ]
  },
  {
   "cell_type": "code",
   "execution_count": 18,
   "metadata": {},
   "outputs": [],
   "source": [
    "# Load and preprocess images\n",
    "def preprocess_images(file_paths, labels):\n",
    "    image_data = []\n",
    "    processed_labels = []\n",
    "    for file_path, label in zip(file_paths, labels):\n",
    "        dicom_folder = file_path  # Path to folder containing DICOM images\n",
    "        dicom_files = [f for f in os.listdir(dicom_folder) if f.endswith('.dcm')]\n",
    "        \n",
    "        if dicom_files:\n",
    "            dicom_path = os.path.join(dicom_folder, dicom_files[0])  # Use the first DICOM image for simplicity\n",
    "            ds = pydicom.dcmread(dicom_path)\n",
    "            img_array = ds.pixel_array / np.max(ds.pixel_array)  # Normalize\n",
    "            img = Image.fromarray(img_array).resize((224, 224))  # Resize\n",
    "            img_array_resized = np.array(img)\n",
    "\n",
    "            # Convert to 3 channels\n",
    "            img_array_resized = np.repeat(img_array_resized[..., np.newaxis], 3, axis=-1)\n",
    "\n",
    "            # Augment for minority classes only\n",
    "            if label != 0:  # Only augment if it's not the majority class (label 0 = \"White\")\n",
    "                img_array_resized = datagen.random_transform(img_array_resized)\n",
    "            \n",
    "            image_data.append(img_array_resized)\n",
    "            processed_labels.append(label)\n",
    "    \n",
    "    return np.array(image_data), np.array(processed_labels)"
   ]
  },
  {
   "cell_type": "code",
   "execution_count": 19,
   "metadata": {},
   "outputs": [],
   "source": [
    "# Preprocess images for training and validation\n",
    "X_train_images, y_train_labels = preprocess_images(X_train, y_train)\n",
    "X_val_images, y_val_labels = preprocess_images(X_val, y_val)"
   ]
  },
  {
   "cell_type": "code",
   "execution_count": 20,
   "metadata": {},
   "outputs": [],
   "source": [
    "# Define Focal Loss function\n",
    "def focal_loss(gamma=2.0, alpha=0.25):\n",
    "    def focal_loss_fixed(y_true, y_pred):\n",
    "        epsilon = tf.keras.backend.epsilon()\n",
    "        y_pred = tf.clip_by_value(y_pred, epsilon, 1.0 - epsilon)\n",
    "        y_true = tf.one_hot(tf.cast(y_true, tf.int32), depth=y_pred.shape[-1])\n",
    "        cross_entropy = -y_true * tf.math.log(y_pred)\n",
    "        weight = alpha * tf.pow(1 - y_pred, gamma)\n",
    "        loss = weight * cross_entropy\n",
    "        return tf.reduce_sum(loss, axis=1)\n",
    "    return focal_loss_fixed"
   ]
  },
  {
   "cell_type": "code",
   "execution_count": 42,
   "metadata": {},
   "outputs": [],
   "source": [
    "# Define class weights with underweighting of the majority class\n",
    "class_weights = {\n",
    "    0: 0.1,  # Majority class: White\n",
    "    1: 2.0,  # Black or African-American\n",
    "    2: 3.0,  # Asian\n",
    "    3: 15.0,  # American Indian or Alaskan Native\n",
    "    4: 15.0   # Native Hawaiian or Other Pacific Islander\n",
    "}"
   ]
  },
  {
   "cell_type": "code",
   "execution_count": 44,
   "metadata": {},
   "outputs": [],
   "source": [
    "from sklearn.metrics import balanced_accuracy_score, f1_score\n",
    "\n",
    "# Custom balanced accuracy metric\n",
    "def balanced_accuracy(y_true, y_pred):\n",
    "    y_true = tf.cast(y_true, tf.int32)\n",
    "    y_pred = tf.argmax(y_pred, axis=1)\n",
    "\n",
    "    # Convert to numpy arrays\n",
    "    y_true_np = y_true.numpy()\n",
    "    y_pred_np = y_pred.numpy()\n",
    "\n",
    "    # Identify classes present in y_true and filter out any others from y_pred\n",
    "    unique_classes = np.unique(y_true_np)\n",
    "    mask = np.isin(y_pred_np, unique_classes)\n",
    "    y_true_filtered = y_true_np[mask]\n",
    "    y_pred_filtered = y_pred_np[mask]\n",
    "\n",
    "    # Compute balanced accuracy using sklearn\n",
    "    if len(np.unique(y_true_filtered)) > 1:  # Only compute if more than one class remains\n",
    "        return balanced_accuracy_score(y_true_filtered, y_pred_filtered)\n",
    "    else:\n",
    "        return np.nan  # Return NaN if balanced accuracy can't be computed\n",
    "\n",
    "# Custom macro F1-score metric\n",
    "def macro_f1_score(y_true, y_pred):\n",
    "    y_true = tf.cast(y_true, tf.int32)\n",
    "    y_pred = tf.argmax(y_pred, axis=1)\n",
    "\n",
    "    # Convert to numpy arrays\n",
    "    y_true_np = y_true.numpy()\n",
    "    y_pred_np = y_pred.numpy()\n",
    "\n",
    "    # Identify classes present in y_true and filter out any others from y_pred\n",
    "    unique_classes = np.unique(y_true_np)\n",
    "    mask = np.isin(y_pred_np, unique_classes)\n",
    "    y_true_filtered = y_true_np[mask]\n",
    "    y_pred_filtered = y_pred_np[mask]\n",
    "\n",
    "    # Compute macro F1-score using sklearn\n",
    "    if len(np.unique(y_true_filtered)) > 1:  # Only compute if more than one class remains\n",
    "        return f1_score(y_true_filtered, y_pred_filtered, average='macro')\n",
    "    else:\n",
    "        return np.nan  # Return NaN if macro F1-score can't be computed\n",
    "\n",
    "# Wrapper to make it compatible with Keras custom metrics\n",
    "@tf.function\n",
    "def balanced_accuracy_metric(y_true, y_pred):\n",
    "    return tf.py_function(balanced_accuracy, (y_true, y_pred), tf.float32)\n",
    "\n",
    "@tf.function\n",
    "def macro_f1_metric(y_true, y_pred):\n",
    "    return tf.py_function(macro_f1_score, (y_true, y_pred), tf.float32)"
   ]
  },
  {
   "cell_type": "code",
   "execution_count": 45,
   "metadata": {},
   "outputs": [
    {
     "name": "stdout",
     "output_type": "stream",
     "text": [
      "Epoch 1/10\n",
      "50/50 [==============================] - 89s 2s/step - loss: 9.3824 - accuracy: 0.8656 - balanced_accuracy_metric: nan - macro_f1_metric: nan - val_loss: 4.4422 - val_accuracy: 0.9325 - val_balanced_accuracy_metric: nan - val_macro_f1_metric: nan\n",
      "Epoch 2/10\n",
      "50/50 [==============================] - 83s 2s/step - loss: 1.9917 - accuracy: 0.8813 - balanced_accuracy_metric: nan - macro_f1_metric: nan - val_loss: 0.5955 - val_accuracy: 0.9300 - val_balanced_accuracy_metric: nan - val_macro_f1_metric: nan\n",
      "Epoch 3/10\n",
      "50/50 [==============================] - 82s 2s/step - loss: 0.4372 - accuracy: 0.9312 - balanced_accuracy_metric: nan - macro_f1_metric: nan - val_loss: 0.4112 - val_accuracy: 0.9325 - val_balanced_accuracy_metric: nan - val_macro_f1_metric: nan\n",
      "Epoch 4/10\n",
      "50/50 [==============================] - 88s 2s/step - loss: 0.3386 - accuracy: 0.9362 - balanced_accuracy_metric: nan - macro_f1_metric: nan - val_loss: 0.3704 - val_accuracy: 0.9300 - val_balanced_accuracy_metric: nan - val_macro_f1_metric: nan\n",
      "Epoch 5/10\n",
      "50/50 [==============================] - 84s 2s/step - loss: 0.4033 - accuracy: 0.9337 - balanced_accuracy_metric: nan - macro_f1_metric: nan - val_loss: 0.3767 - val_accuracy: 0.9300 - val_balanced_accuracy_metric: nan - val_macro_f1_metric: nan\n"
     ]
    }
   ],
   "source": [
    "from tensorflow.keras.callbacks import EarlyStopping, ModelCheckpoint\n",
    "\n",
    "# Load EfficientNetB0 and add custom layers\n",
    "base_model = EfficientNetB0(weights='imagenet', include_top=False, input_shape=(224, 224, 3))\n",
    "base_model.trainable = False  # Freeze base model for initial training\n",
    "\n",
    "# Add custom layers\n",
    "x = base_model.output\n",
    "x = Flatten()(x)\n",
    "x = Dense(512, activation='relu')(x)\n",
    "x = Dropout(0.5)(x)\n",
    "output = Dense(5, activation='softmax')(x)\n",
    "\n",
    "# Create the complete model\n",
    "model = Model(inputs=base_model.input, outputs=output)\n",
    "\n",
    "# Compile the model\n",
    "model.compile(\n",
    "    optimizer=tf.keras.optimizers.Adam(learning_rate=0.001),\n",
    "    loss='sparse_categorical_crossentropy',\n",
    "    metrics=['accuracy', balanced_accuracy_metric, macro_f1_metric]\n",
    ")\n",
    "\n",
    "# Define callbacks for early stopping and model checkpointing\n",
    "callbacks = [\n",
    "    EarlyStopping(monitor='val_balanced_accuracy_metric', patience=5, restore_best_weights=True),\n",
    "    ModelCheckpoint(\"best_model.h5\", monitor='val_balanced_accuracy_metric', save_best_only=True)\n",
    "]\n",
    "\n",
    "# Train the model using the generator\n",
    "history = model.fit(X_train_images, \n",
    "                    y_train_labels, \n",
    "                    validation_data=(X_val_images, y_val_labels), \n",
    "                    epochs=10, \n",
    "                    batch_size=32,\n",
    "                    callbacks=callbacks)"
   ]
  },
  {
   "cell_type": "code",
   "execution_count": 30,
   "metadata": {},
   "outputs": [],
   "source": [
    "import matplotlib.pyplot as plt\n",
    "from sklearn.metrics import confusion_matrix, accuracy_score, classification_report\n",
    "import seaborn as sns"
   ]
  },
  {
   "cell_type": "code",
   "execution_count": 46,
   "metadata": {},
   "outputs": [
    {
     "data": {
      "image/png": "[encoded data removed]",
      "text/plain": [
       "<Figure size 432x288 with 1 Axes>"
      ]
     },
     "metadata": {
      "needs_background": "light"
     },
     "output_type": "display_data"
    },
    {
     "data": {
      "image/png": "[encoded data removed]",
      "text/plain": [
       "<Figure size 432x288 with 1 Axes>"
      ]
     },
     "metadata": {
      "needs_background": "light"
     },
     "output_type": "display_data"
    }
   ],
   "source": [
    "# Plot training & validation accuracy\n",
    "plt.plot(history.history['accuracy'])\n",
    "plt.plot(history.history['val_accuracy'])\n",
    "plt.title('Model accuracy')\n",
    "plt.ylabel('Accuracy')\n",
    "plt.xlabel('Epoch')\n",
    "plt.legend(['Train', 'Validation'], loc='upper left')\n",
    "plt.show()\n",
    "\n",
    "# Plot training & validation loss\n",
    "plt.plot(history.history['loss'])\n",
    "plt.plot(history.history['val_loss'])\n",
    "plt.title('Model loss')\n",
    "plt.ylabel('Loss')\n",
    "plt.xlabel('Epoch')\n",
    "plt.legend(['Train', 'Validation'], loc='upper left')\n",
    "plt.show()\n"
   ]
  },
  {
   "cell_type": "code",
   "execution_count": 47,
   "metadata": {},
   "outputs": [],
   "source": [
    "# Make predictions on the validation set\n",
    "y_pred = model.predict(X_val_images)\n",
    "\n",
    "# Convert predicted probabilities to class labels\n",
    "y_pred_labels = np.argmax(y_pred, axis=1)"
   ]
  },
  {
   "cell_type": "code",
   "execution_count": 48,
   "metadata": {},
   "outputs": [
    {
     "name": "stdout",
     "output_type": "stream",
     "text": [
      "Accuracy: 0.9325\n"
     ]
    },
    {
     "data": {
      "image/png": "[encoded data removed]",
      "text/plain": [
       "<Figure size 576x432 with 2 Axes>"
      ]
     },
     "metadata": {
      "needs_background": "light"
     },
     "output_type": "display_data"
    }
   ],
   "source": [
    "# Create a confusion matrix\n",
    "cm = confusion_matrix(y_val_labels, y_pred_labels)\n",
    "\n",
    "cma = cm.astype('float') / cm.sum(axis=1)[:, np.newaxis]\n",
    "\n",
    "# Define race labels\n",
    "race_labels = ['W', 'B/AF', 'A', 'AI/AN', 'NH/PA']\n",
    "\n",
    "# Calculate accuracy\n",
    "accuracy = accuracy_score(y_val_labels, y_pred_labels)\n",
    "print(f\"Accuracy: {accuracy:.4f}\")\n",
    "\n",
    "# Plot the confusion matrix\n",
    "plt.figure(figsize=(8,6))\n",
    "sns.heatmap(cma, annot=True, fmt='.2f', cmap='Blues', xticklabels=race_labels, yticklabels=race_labels)\n",
    "plt.xlabel('Predicted Race')\n",
    "plt.ylabel('True Race')\n",
    "plt.title(f'Confusion Matrix - Ethnicity Classification (Accuracy: {accuracy:.2f})')\n",
    "plt.show()"
   ]
  }
 ],
 "metadata": {
  "kernelspec": {
   "display_name": "dicom_env",
   "language": "python",
   "name": "python3"
  },
  "language_info": {
   "codemirror_mode": {
    "name": "ipython",
    "version": 3
   },
   "file_extension": ".py",
   "mimetype": "text/x-python",
   "name": "python",
   "nbconvert_exporter": "python",
   "pygments_lexer": "ipython3",
   "version": "3.6.13"
  }
 },
 "nbformat": 4,
 "nbformat_minor": 2
}
