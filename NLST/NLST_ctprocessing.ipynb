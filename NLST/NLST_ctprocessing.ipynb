{
 "cells": [
  {
   "cell_type": "markdown",
   "metadata": {},
   "source": [
    "### Filter CT"
   ]
  },
  {
   "cell_type": "code",
   "execution_count": null,
   "metadata": {},
   "outputs": [],
   "source": [
    "import pandas as pd\n",
    "import numpy as np\n",
    "import os\n",
    "import pydicom\n",
    "from pydicom.errors import InvalidDicomError\n",
    "from PIL import Image\n",
    "from collections import Counter\n",
    "from sklearn.model_selection import train_test_split"
   ]
  },
  {
   "cell_type": "code",
   "execution_count": null,
   "metadata": {},
   "outputs": [
    {
     "name": "stderr",
     "output_type": "stream",
     "text": [
      "c:\\Users\\yuting.tseng\\AppData\\Local\\anaconda3\\envs\\dicom_env\\lib\\site-packages\\IPython\\core\\interactiveshell.py:3072: DtypeWarning: Columns (18) have mixed types.Specify dtype option on import or set low_memory=False.\n",
      "  interactivity=interactivity, compiler=compiler, result=result)\n"
     ]
    }
   ],
   "source": [
    "# Load the CSV file\n",
    "data_path = '/mnt/win_share/GitHub/AI-ethnicity-med-image/data/NLST_CT_withPID.csv'\n",
    "df = pd.read_csv(data_path)"
   ]
  },
  {
   "cell_type": "code",
   "execution_count": 39,
   "metadata": {},
   "outputs": [],
   "source": [
    "# Define race mapping and filter relevant columns\n",
    "race_mapping = {\n",
    "    1: \"White\",\n",
    "    2: \"Black or African-American\",\n",
    "    3: \"Asian\",\n",
    "    4: \"American Indian or Alaskan Native\",\n",
    "    5: \"Native Hawaiian or Other Pacific Islander\"\n",
    "}\n",
    "df['Patient Race'] = df['Patient Race'].map(race_mapping)\n",
    "\n",
    "# Drop rows where 'Patient Race' is NaN\n",
    "df_cleaned = df.dropna(subset=['Patient Race'])"
   ]
  },
  {
   "cell_type": "code",
   "execution_count": 40,
   "metadata": {},
   "outputs": [
    {
     "name": "stdout",
     "output_type": "stream",
     "text": [
      "E:\\Data\\NLST\\Radiology CT Images\\manifest-NLST_allCT\n"
     ]
    }
   ],
   "source": [
    "current_path = os.getcwd()\n",
    "print(current_path)"
   ]
  },
  {
   "cell_type": "code",
   "execution_count": 41,
   "metadata": {},
   "outputs": [
    {
     "name": "stdout",
     "output_type": "stream",
     "text": [
      "E:\\Data\\NLST\\Radiology CT Images\\manifest-NLST_allCT\n"
     ]
    }
   ],
   "source": [
    "# Change to current directory\n",
    "os.chdir(r'E:\\Data\\NLST\\Radiology CT Images\\manifest-NLST_allCT')\n",
    "print(os.getcwd())"
   ]
  },
  {
   "cell_type": "code",
   "execution_count": 45,
   "metadata": {},
   "outputs": [
    {
     "name": "stdout",
     "output_type": "stream",
     "text": [
      "Metadata Counts:\n",
      "Lung CT: 191223\n",
      "Other CT: 8712\n",
      "Non-CT: 0\n",
      "Unknown: 1\n",
      "Filtered lung CT image paths saved to filtered_lung_ct_images.csv\n"
     ]
    }
   ],
   "source": [
    "# Function to filter lung CT images with error handling\n",
    "def filter_lung_ct_images(df, output_csv='filtered_lung_ct_images.csv'):\n",
    "    lung_ct_files = []\n",
    "    metadata_counts = {\n",
    "        'Lung CT': 0,\n",
    "        'Other CT': 0,\n",
    "        'Non-CT': 0,\n",
    "        'Unknown': 0\n",
    "    }\n",
    "    \n",
    "    for index, row in df.iterrows():\n",
    "        dicom_folder = row['File Location']\n",
    "        dicom_files = [f for f in os.listdir(dicom_folder) if f.endswith('.dcm')]\n",
    "        \n",
    "        if dicom_files:\n",
    "            dicom_file = dicom_files[0]  # Select the first DICOM file\n",
    "            dicom_path = os.path.join(dicom_folder, dicom_file)\n",
    "            \n",
    "            try:\n",
    "                # Try reading the DICOM file with error handling\n",
    "                ds = pydicom.dcmread(dicom_path, force=True)  # Use force=True to attempt reading non-standard files\n",
    "\n",
    "                # Check Modality and BodyPartExamined for filtering\n",
    "                modality = ds.get(\"Modality\", \"Unknown\")\n",
    "                body_part = ds.get(\"BodyPartExamined\", \"Unknown\")\n",
    "\n",
    "                # Classify based on modality and body part\n",
    "                if modality == \"CT\" and (\"LUNG\" in body_part.upper() or \"CHEST\" in body_part.upper()):\n",
    "                    metadata_counts['Lung CT'] += 1\n",
    "                    lung_ct_files.append({\n",
    "                        \"Subject ID\": row[\"Subject ID\"],\n",
    "                        \"File Location\": dicom_folder,\n",
    "                        \"Patient Race\": row[\"Patient Race\"]\n",
    "                    })\n",
    "                elif modality == \"CT\":\n",
    "                    metadata_counts['Other CT'] += 1\n",
    "                elif modality != \"Unknown\":\n",
    "                    metadata_counts['Non-CT'] += 1\n",
    "                else:\n",
    "                    metadata_counts['Unknown'] += 1\n",
    "\n",
    "            except InvalidDicomError:\n",
    "                print(f\"Skipping invalid DICOM file: {dicom_path}\")\n",
    "                metadata_counts['Unknown'] += 1  # Count as unknown if it's an invalid DICOM\n",
    "\n",
    "    # Print metadata counts\n",
    "    print(\"Metadata Counts:\")\n",
    "    for key, count in metadata_counts.items():\n",
    "        print(f\"{key}: {count}\")\n",
    "\n",
    "    # Convert the list of lung CT files to a DataFrame and save to CSV\n",
    "    lung_ct_df = pd.DataFrame(lung_ct_files)\n",
    "    lung_ct_df.to_csv(output_csv, index=False)\n",
    "    print(f\"Filtered lung CT image paths saved to {output_csv}\")\n",
    "\n",
    "    return lung_ct_df\n",
    "\n",
    "# Apply the filter function\n",
    "lung_ct_df = filter_lung_ct_images(df_cleaned)"
   ]
  },
  {
   "cell_type": "code",
   "execution_count": 58,
   "metadata": {},
   "outputs": [
    {
     "name": "stdout",
     "output_type": "stream",
     "text": [
      "\n",
      "Total DICOM files inspected: 199936\n",
      "\n",
      "Orientation Counts (ImageOrientationPatient):\n",
      "('0.0', '-1.0', '0.0', '0.0', '0.0', '-1.0'): 21747\n",
      "('1.0', '0.0', '0.0', '0.0', '1.0', '0.0'): 135425\n",
      "('1.0', '0.0', '0.0', '0.0', '0.0', '-1.0'): 22052\n",
      "('1.0', '-7.0448747e-16', '0.0', '0.0', '0.0', '-1.0'): 4430\n",
      "('0.0', '1.0', '0.0', '0.0', '0.0', '-1.0'): 5550\n",
      "('1.0', '6.123031769e-17', '0.0', '0.0', '0.0', '-1.0'): 1398\n",
      "('1.0', '6.1230318e-17', '0.0', '0.0', '0.0', '-1.0'): 5242\n",
      "('-1.0', '0.0', '0.0', '0.0', '0.0', '-1.0'): 970\n",
      "('1.0', '-7.04487467e-16', '0.0', '0.0', '0.0', '-1.0'): 98\n",
      "('-1.0', '0.0', '0.0', '0.0', '-1.0', '0.0'): 170\n",
      "('-1.0', '0.0', '0.0', '0.0', '1.0', '0.0'): 10\n",
      "('1.0', '7.0448747e-16', '0.0', '0.0', '0.0', '-1.0'): 1200\n",
      "('1.0', '-6.12303177e-17', '0.0', '0.0', '0.0', '-1.0'): 592\n",
      "('-1.0', '-6.1230318e-17', '0.0', '0.0', '0.0', '-1.0'): 1\n",
      "('1.0', '7.044874666e-16', '0.0', '0.0', '0.0', '-1.0'): 18\n",
      "('1.0', '-6.1230318e-17', '0.0', '0.0', '0.0', '-1.0'): 904\n",
      "('1.0', '0.0', '0.0', '0.0', '0.99996192', '0.0087265355'): 4\n",
      "('0.0', '0.9999999404', '0.0', '0.0', '0.0', '-1.0'): 4\n",
      "('U', 'n', 'k', 'n', 'o', 'w', 'n'): 0\n",
      "('1.0', '6.12303e-17', '0.0', '0.0', '0.0', '-1.0'): 2\n",
      "('0.0', '0.0', '-1.0', '-1.0', '7.04487e-16', '-0.0'): 1\n",
      "('0.0', '1.0', '0.0', '-1.0', '-0.0', '-0.0'): 1\n",
      "('1.0', '0.0', '0.0', '-0.0', '-1.0', '-0.0'): 1\n",
      "('1.0', '0.0', '0.0', '0.0', '0.99996192', '-0.0087265355'): 2\n",
      "('-1.0', '6.123031769e-17', '0.0', '0.0', '0.0', '-1.0'): 1\n",
      "('0.0', '0.9999999404', '0.0', '0.0', '0.0', '-0.9999998808'): 12\n",
      "('0.0', '1.0', '0.0', '0.0', '0.0', '-1.000000119'): 18\n",
      "('0.0', '0.9999998808', '0.0', '0.0', '0.0', '-0.9999999404'): 2\n",
      "('0.0', '0.9999998212', '0.0', '0.0', '0.0', '-1.0'): 1\n",
      "('0.0', '0.9999998808', '0.0', '0.0', '0.0', '-0.9999998808'): 7\n",
      "('0.0', '1.0', '0.0', '0.0', '0.0', '-0.9999999404'): 12\n",
      "('0.0', '1.0', '0.0', '0.0', '0.0', '-0.9999998212'): 1\n",
      "('0.0', '0.9999998212', '0.0', '0.0', '0.0', '-0.9999999404'): 2\n",
      "('0.0', '1.0', '0.0', '0.0', '0.0', '-0.9999998808'): 8\n",
      "('0.0', '0.9999999404', '0.0', '0.0', '0.0', '-0.9999999404'): 6\n",
      "('0.0', '1.000000119', '0.0', '0.0', '0.0', '-0.9999999404'): 3\n",
      "('0.0', '0.9999998808', '0.0', '0.0', '0.0', '-0.9999997616'): 2\n",
      "('0.0', '1.000000119', '0.0', '0.0', '0.0', '-1.0'): 8\n",
      "('-1.0', '6.1230318e-17', '0.0', '0.0', '0.0', '-1.0'): 1\n",
      "('0.0', '0.9999998808', '0.0', '0.0', '0.0', '-0.9999998212'): 3\n",
      "('0.0', '0.9999999404', '0.0', '0.0', '0.0', '-1.000000119'): 1\n",
      "('0.0', '0.9999998808', '0.0', '0.0', '0.0', '-1.0'): 3\n",
      "('0.0', '0.9999999404', '0.0', '0.0', '0.0', '-0.9999997616'): 1\n",
      "('0.0', '1.000000119', '0.0', '0.0', '0.0', '-1.000000238'): 1\n",
      "('0.0', '1.0', '0.0', '0.0', '0.0', '-0.9999997616'): 2\n",
      "('0.999315', '0.037012', '0.0', '0.0', '0.0', '-1.0'): 1\n",
      "('0.0', '1.000000119', '0.0', '0.0', '0.0', '-0.9999998808'): 1\n",
      "('0.0', '1.000000119', '0.0', '0.0', '0.0', '-1.000000119'): 6\n",
      "('0.9999999404', '0.0', '0.0', '0.0', '0.0', '-0.9999998808'): 1\n",
      "('0.0', '0.9999999404', '0.0', '0.0', '0.0', '-0.9999998212'): 1\n",
      "('0.0', '0.9999998212', '0.0', '0.0', '0.0', '-0.9999998212'): 1\n",
      "('-1.0', '-7.0448747e-16', '0.0', '0.0', '0.0', '-1.0'): 1\n",
      "('1.0', '0.0', '0.0', '0.0', '-0.083578', '-0.996501'): 1\n",
      "('0.0', '1.000000238', '0.0', '0.0', '0.0', '-1.000000119'): 1\n",
      "('0.0', '0.9999998808', '0.0', '0.0', '0.0', '-0.999999702'): 1\n",
      "\n",
      "View Position Counts (ViewPosition):\n",
      "Unknown: 0\n"
     ]
    }
   ],
   "source": [
    "# Function to inspect orientations and views in the dataset\n",
    "def inspect_orientation_and_view(df):\n",
    "    orientation_counter = Counter()\n",
    "    view_counter = Counter()\n",
    "    total_files = 0\n",
    "    \n",
    "    for index, row in df.iterrows():\n",
    "        dicom_folder = row['File Location']\n",
    "        dicom_files = [f for f in os.listdir(dicom_folder) if f.endswith('.dcm')]\n",
    "        \n",
    "        if dicom_files:\n",
    "            dicom_file = dicom_files[0]  # Select the first DICOM file\n",
    "            dicom_path = os.path.join(dicom_folder, dicom_file)\n",
    "            try:\n",
    "                # Attempt to read the DICOM file\n",
    "                ds = pydicom.dcmread(dicom_path, force=True)\n",
    "                total_files += 1\n",
    "\n",
    "                # Get orientation and view metadata\n",
    "                orientation = ds.get(\"ImageOrientationPatient\", \"Unknown\")\n",
    "                view_position = ds.get(\"ViewPosition\", \"Unknown\")\n",
    "\n",
    "                # Update counters\n",
    "                orientation_counter[tuple(orientation)] += 1 if orientation != \"Unknown\" else 0\n",
    "                view_counter[view_position] += 1 if view_position != \"Unknown\" else 0\n",
    "\n",
    "            except InvalidDicomError:\n",
    "                print(f\"Invalid DICOM file skipped: {dicom_path}\")\n",
    "            except Exception as e:\n",
    "                print(f\"Error reading file {dicom_path}: {e}\")\n",
    "\n",
    "    # Print the summary of orientations and views\n",
    "    print(f\"\\nTotal DICOM files inspected: {total_files}\")\n",
    "    print(\"\\nOrientation Counts (ImageOrientationPatient):\")\n",
    "    for orientation, count in orientation_counter.items():\n",
    "        print(f\"{orientation}: {count}\")\n",
    "    \n",
    "    print(\"\\nView Position Counts (ViewPosition):\")\n",
    "    for view, count in view_counter.items():\n",
    "        print(f\"{view}: {count}\")\n",
    "\n",
    "# Run the inspection\n",
    "inspect_orientation_and_view(df_cleaned)"
   ]
  },
  {
   "cell_type": "code",
   "execution_count": 59,
   "metadata": {},
   "outputs": [
    {
     "name": "stdout",
     "output_type": "stream",
     "text": [
      "Metadata Counts:\n",
      "Axial Lung CT: 67659\n",
      "Other CT: 132276\n",
      "Non-CT: 0\n",
      "Invalid DICOM: 0\n",
      "Unknown: 1\n",
      "Filtered axial lung CT image paths saved to axial_lung_ct_images.csv\n"
     ]
    }
   ],
   "source": [
    "# Function to filter DICOM files by ImageType and save axial lung CT files to CSV\n",
    "def axial_lung_ct_images(df, output_csv='axial_lung_ct_images.csv'):\n",
    "    axial_lung_ct_files = []\n",
    "    metadata_counts = {\n",
    "        'Axial Lung CT': 0,\n",
    "        'Other CT': 0,\n",
    "        'Non-CT': 0,\n",
    "        'Invalid DICOM': 0,\n",
    "        'Unknown': 0\n",
    "    }\n",
    "    \n",
    "    for index, row in df.iterrows():\n",
    "        dicom_folder = row['File Location']\n",
    "        dicom_files = [f for f in os.listdir(dicom_folder) if f.endswith('.dcm')]\n",
    "        \n",
    "        if dicom_files:\n",
    "            dicom_file = dicom_files[0]  # Select the first DICOM file\n",
    "            dicom_path = os.path.join(dicom_folder, dicom_file)\n",
    "            try:\n",
    "                # Attempt to read the DICOM file\n",
    "                ds = pydicom.dcmread(dicom_path, force=True)\n",
    "\n",
    "                # Check Modality, BodyPartExamined, and ImageType for axial lung CT\n",
    "                modality = ds.get(\"Modality\", \"Unknown\")\n",
    "                body_part = ds.get(\"BodyPartExamined\", \"Unknown\")\n",
    "                image_type = \"\\\\\".join(ds.get(\"ImageType\", []))  # Convert list to string\n",
    "\n",
    "                # Filter for axial lung CTs with ImageType 'ORIGINAL\\PRIMARY\\AXIAL'\n",
    "                if (modality == \"CT\" and \n",
    "                    (\"LUNG\" in body_part.upper() or \"CHEST\" in body_part.upper()) and\n",
    "                    image_type == \"ORIGINAL\\\\PRIMARY\\\\AXIAL\"):\n",
    "\n",
    "                    metadata_counts['Axial Lung CT'] += 1\n",
    "                    axial_lung_ct_files.append({\n",
    "                        \"Subject ID\": row[\"Subject ID\"],\n",
    "                        \"File Location\": dicom_folder,\n",
    "                        \"Patient Race\": row[\"Patient Race\"]\n",
    "                    })\n",
    "\n",
    "                elif modality == \"CT\":\n",
    "                    metadata_counts['Other CT'] += 1\n",
    "                elif modality != \"Unknown\":\n",
    "                    metadata_counts['Non-CT'] += 1\n",
    "                else:\n",
    "                    metadata_counts['Unknown'] += 1\n",
    "\n",
    "            except InvalidDicomError:\n",
    "                metadata_counts['Invalid DICOM'] += 1\n",
    "                print(f\"Invalid DICOM file skipped: {dicom_path}\")\n",
    "            except Exception as e:\n",
    "                print(f\"Error reading file {dicom_path}: {e}\")\n",
    "\n",
    "    # Print metadata counts\n",
    "    print(\"Metadata Counts:\")\n",
    "    for key, count in metadata_counts.items():\n",
    "        print(f\"{key}: {count}\")\n",
    "\n",
    "    # Convert the list of axial lung CT files to a DataFrame and save to CSV\n",
    "    axial_lung_ct_df = pd.DataFrame(axial_lung_ct_files)\n",
    "    axial_lung_ct_df.to_csv(output_csv, index=False)\n",
    "    print(f\"Filtered axial lung CT image paths saved to {output_csv}\")\n",
    "\n",
    "    return axial_lung_ct_df\n",
    "\n",
    "# Run the filtering function and save to CSV\n",
    "axial_lung_ct_df = axial_lung_ct_images(df_cleaned)"
   ]
  },
  {
   "cell_type": "code",
   "execution_count": 46,
   "metadata": {},
   "outputs": [
    {
     "name": "stdout",
     "output_type": "stream",
     "text": [
      "Number of available CT: 191223\n",
      "Filtered CT - Class Distribution:\n",
      "White                                        179108\n",
      "Black or African-American                      7685\n",
      "Asian                                          3303\n",
      "American Indian or Alaskan Native               633\n",
      "Native Hawaiian or Other Pacific Islander       494\n",
      "Name: Patient Race, dtype: int64\n"
     ]
    }
   ],
   "source": [
    "num_ctimages = len(lung_ct_df)\n",
    "print(f\"Number of available CT: {num_ctimages}\")\n",
    "\n",
    "# Check the new class distribution\n",
    "print(\"Filtered CT - Class Distribution:\")\n",
    "print(lung_ct_df['Patient Race'].value_counts())"
   ]
  },
  {
   "cell_type": "code",
   "execution_count": 60,
   "metadata": {},
   "outputs": [
    {
     "name": "stdout",
     "output_type": "stream",
     "text": [
      "Number of available CT: 67659\n",
      "Filtered CT - Class Distribution:\n",
      "White                                        63349\n",
      "Black or African-American                     2302\n",
      "Asian                                         1563\n",
      "Native Hawaiian or Other Pacific Islander      225\n",
      "American Indian or Alaskan Native              220\n",
      "Name: Patient Race, dtype: int64\n"
     ]
    }
   ],
   "source": [
    "num_axctimages = len(axial_lung_ct_df)\n",
    "print(f\"Number of available CT: {num_axctimages}\")\n",
    "\n",
    "# Check the new class distribution\n",
    "print(\"Filtered CT - Class Distribution:\")\n",
    "print(axial_lung_ct_df['Patient Race'].value_counts())"
   ]
  },
  {
   "cell_type": "markdown",
   "metadata": {},
   "source": [
    "### Try with updated CSV"
   ]
  },
  {
   "cell_type": "code",
   "execution_count": 2,
   "metadata": {},
   "outputs": [],
   "source": [
    "# Load the CSV file\n",
    "data_path = 'U:/GitHub/AI-ethnicity-med-image/data/axial_lung_ct_images.csv'\n",
    "df_axaial = pd.read_csv(data_path)"
   ]
  },
  {
   "cell_type": "code",
   "execution_count": 3,
   "metadata": {},
   "outputs": [
    {
     "name": "stdout",
     "output_type": "stream",
     "text": [
      "E:\\Data\\NLST\\Radiology CT Images\\manifest-NLST_allCT\n"
     ]
    }
   ],
   "source": [
    "# Change to current directory\n",
    "os.chdir(r'E:\\Data\\NLST\\Radiology CT Images\\manifest-NLST_allCT')\n",
    "print(os.getcwd())"
   ]
  },
  {
   "cell_type": "code",
   "execution_count": 4,
   "metadata": {},
   "outputs": [],
   "source": [
    "# Group by 'Subject ID' to handle multiple images per patient\n",
    "grouped = df_axaial.groupby('Subject ID')\n",
    "\n",
    "# Randomly select one image per patient\n",
    "df_single_image_per_patient = grouped.apply(lambda x: x.sample(1, random_state=42)).reset_index(drop=True)\n",
    "\n",
    "# Label mapping for converting race categories to integers\n",
    "label_mapping = {\n",
    "    \"White\": 0,\n",
    "    \"Black or African-American\": 1,\n",
    "    \"Asian\": 2,\n",
    "    \"American Indian or Alaskan Native\": 3,\n",
    "    \"Native Hawaiian or Other Pacific Islander\": 4\n",
    "}\n",
    "\n",
    "# Convert the 'Patient Race' to integer labels\n",
    "df_single_image_per_patient['Race_Label'] = df_single_image_per_patient['Patient Race'].map(label_mapping)"
   ]
  },
  {
   "cell_type": "code",
   "execution_count": 5,
   "metadata": {},
   "outputs": [
    {
     "name": "stdout",
     "output_type": "stream",
     "text": [
      "Number of unique patients: 15639\n",
      "Number of images after selecting one per patient: 15639\n"
     ]
    }
   ],
   "source": [
    "num_patients = df_single_image_per_patient['Subject ID'].nunique()\n",
    "num_images = len(df_single_image_per_patient)\n",
    "\n",
    "# Print the results\n",
    "print(f\"Number of unique patients: {num_patients}\")\n",
    "print(f\"Number of images after selecting one per patient: {num_images}\")"
   ]
  },
  {
   "cell_type": "code",
   "execution_count": 6,
   "metadata": {},
   "outputs": [
    {
     "name": "stdout",
     "output_type": "stream",
     "text": [
      "Class distribution after cleaning:\n",
      "White                                        14435\n",
      "Black or African-American                      584\n",
      "Asian                                          491\n",
      "Native Hawaiian or Other Pacific Islander       81\n",
      "American Indian or Alaskan Native               48\n",
      "Name: Patient Race, dtype: int64\n"
     ]
    },
    {
     "data": {
      "image/png": "[encoded data removed]",
      "text/plain": [
       "<Figure size 432x288 with 1 Axes>"
      ]
     },
     "metadata": {
      "needs_background": "light"
     },
     "output_type": "display_data"
    }
   ],
   "source": [
    "import matplotlib.pyplot as plt\n",
    "# Check class distribution\n",
    "print(\"Class distribution after cleaning:\")\n",
    "print(df_single_image_per_patient['Patient Race'].value_counts())\n",
    "\n",
    "# Plot class distribution\n",
    "df_single_image_per_patient['Patient Race'].value_counts().plot(kind='bar', title=\"Class Distribution of Patient Race\", xlabel=\"Race\", ylabel=\"Count\")\n",
    "plt.show()"
   ]
  },
  {
   "cell_type": "code",
   "execution_count": 7,
   "metadata": {},
   "outputs": [
    {
     "name": "stdout",
     "output_type": "stream",
     "text": [
      "Shape of the cleaned DataFrame: (1500, 4)\n"
     ]
    }
   ],
   "source": [
    "# Sample a maximum number of images per patient (1 image per unique patient)\n",
    "sampled_df = df_single_image_per_patient.sample(n=1500, random_state=42)\n",
    "\n",
    "print(\"Shape of the cleaned DataFrame:\", sampled_df.shape)"
   ]
  },
  {
   "cell_type": "code",
   "execution_count": 8,
   "metadata": {},
   "outputs": [],
   "source": [
    "# Train-validation split\n",
    "X_train, X_val, y_train, y_val = train_test_split(\n",
    "    sampled_df['File Location'],\n",
    "    sampled_df['Race_Label'],\n",
    "    test_size=0.2,\n",
    "    stratify=sampled_df['Race_Label'],\n",
    "    random_state=42\n",
    ")"
   ]
  },
  {
   "cell_type": "code",
   "execution_count": 9,
   "metadata": {},
   "outputs": [],
   "source": [
    "# Preprocessing function to standardize lung CT images\n",
    "def preprocess_images(file_paths, labels):\n",
    "    image_data = []\n",
    "    processed_labels = []\n",
    "    \n",
    "    # Ensure only one image per patient (process the first DICOM file found)\n",
    "    for file_path, label in zip(file_paths, labels):\n",
    "        dicom_folder = file_path  # Path to the folder containing DICOM images\n",
    "        dicom_files = [f for f in os.listdir(dicom_folder) if f.endswith('.dcm')]  # List DICOM files\n",
    "        \n",
    "        if dicom_files:\n",
    "            dicom_file = dicom_files[0]  # Select the first DICOM file only\n",
    "            dicom_path = os.path.join(dicom_folder, dicom_file)\n",
    "            ds = pydicom.dcmread(dicom_path)  # Read the DICOM file\n",
    "            img_array = ds.pixel_array  # Extract pixel array\n",
    "\n",
    "            # Normalize the image\n",
    "            img_array = img_array / np.max(img_array)  # Normalize to [0, 1]\n",
    "\n",
    "            # Resize the image\n",
    "            img = Image.fromarray(img_array)  # Convert to PIL image\n",
    "            img = img.resize((224, 224))  # Resize to 224x224 pixels\n",
    "            img_array_resized = np.array(img)  # Convert back to numpy array\n",
    "\n",
    "            # Convert grayscale image to 3-channel RGB by repeating the single channel 3 times\n",
    "            img_array_rgb = np.stack([img_array_resized] * 3, axis=-1)\n",
    "\n",
    "            image_data.append(img_array_rgb)\n",
    "            processed_labels.append(label)  # Append the corresponding label\n",
    "    \n",
    "    return np.array(image_data), np.array(processed_labels)"
   ]
  },
  {
   "cell_type": "code",
   "execution_count": 10,
   "metadata": {},
   "outputs": [],
   "source": [
    "# Preprocess images for training and validation sets (ensure 1 image per patient)\n",
    "X_train_images, y_train_labels = preprocess_images(X_train, y_train)\n",
    "X_val_images, y_val_labels = preprocess_images(X_val, y_val)"
   ]
  },
  {
   "cell_type": "code",
   "execution_count": 11,
   "metadata": {},
   "outputs": [
    {
     "name": "stdout",
     "output_type": "stream",
     "text": [
      "Number of training images: 1200\n",
      "Number of validation images: 300\n",
      "Number of training labels: 1200\n",
      "Number of validation labels: 300\n"
     ]
    }
   ],
   "source": [
    "# Check the number of images\n",
    "num_train_images = X_train_images.shape[0]\n",
    "num_val_images = X_val_images.shape[0]\n",
    "\n",
    "print(f\"Number of training images: {num_train_images}\")\n",
    "print(f\"Number of validation images: {num_val_images}\")\n",
    "print(f\"Number of training labels: {len(y_train_labels)}\")\n",
    "print(f\"Number of validation labels: {len(y_val_labels)}\")\n"
   ]
  },
  {
   "cell_type": "code",
   "execution_count": 14,
   "metadata": {},
   "outputs": [
    {
     "name": "stderr",
     "output_type": "stream",
     "text": [
      "Clipping input data to the valid range for imshow with RGB data ([0..1] for floats or [0..255] for integers).\n"
     ]
    },
    {
     "name": "stderr",
     "output_type": "stream",
     "text": [
      "Clipping input data to the valid range for imshow with RGB data ([0..1] for floats or [0..255] for integers).\n",
      "Clipping input data to the valid range for imshow with RGB data ([0..1] for floats or [0..255] for integers).\n",
      "Clipping input data to the valid range for imshow with RGB data ([0..1] for floats or [0..255] for integers).\n",
      "Clipping input data to the valid range for imshow with RGB data ([0..1] for floats or [0..255] for integers).\n"
     ]
    },
    {
     "data": {
      "image/png": "[encoded data removed]",
      "text/plain": [
       "<Figure size 1080x1080 with 5 Axes>"
      ]
     },
     "metadata": {
      "needs_background": "light"
     },
     "output_type": "display_data"
    }
   ],
   "source": [
    "def show_images(images, labels, num_images=5):\n",
    "    plt.figure(figsize=(15, 15))\n",
    "    for i in range(num_images):\n",
    "        plt.subplot(1, num_images, i + 1)\n",
    "        plt.imshow(images[i], cmap='gray')\n",
    "        plt.title(f\"Label: {labels[i]}\")\n",
    "        plt.axis('off')\n",
    "    plt.show()\n",
    "\n",
    "# Display the first few images in the training set\n",
    "show_images(X_train_images, y_train_labels)"
   ]
  }
 ],
 "metadata": {
  "kernelspec": {
   "display_name": "dicom_env",
   "language": "python",
   "name": "python3"
  },
  "language_info": {
   "codemirror_mode": {
    "name": "ipython",
    "version": 3
   },
   "file_extension": ".py",
   "mimetype": "text/x-python",
   "name": "python",
   "nbconvert_exporter": "python",
   "pygments_lexer": "ipython3",
   "version": "3.6.13"
  }
 },
 "nbformat": 4,
 "nbformat_minor": 2
}
