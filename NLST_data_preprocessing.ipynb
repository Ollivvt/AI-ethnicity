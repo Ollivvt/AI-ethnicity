{
 "cells": [
  {
   "cell_type": "code",
   "execution_count": 1,
   "metadata": {},
   "outputs": [],
   "source": [
    "import pandas as pd\n",
    "import numpy as np\n",
    "import os\n",
    "import pydicom\n",
    "from PIL import Image\n",
    "from sklearn.model_selection import train_test_split"
   ]
  },
  {
   "cell_type": "code",
   "execution_count": 2,
   "metadata": {},
   "outputs": [
    {
     "data": {
      "text/plain": [
       "'\\n# Explore the data\\nprint(\"First few rows of the dataset:\")\\nprint(df.head())\\nprint(\"\\nClass distribution:\")\\nprint(df[\\'Patient Race\\'].value_counts())  # Check class distribution\\n'"
      ]
     },
     "execution_count": 2,
     "metadata": {},
     "output_type": "execute_result"
    }
   ],
   "source": [
    "# Load the CSV file\n",
    "data_path = 'U:/GitHub/AI-ethnicity-med-image/data/NLST_CT_withPID.csv'\n",
    "df = pd.read_csv(data_path)"
   ]
  },
  {
   "cell_type": "code",
   "execution_count": 3,
   "metadata": {},
   "outputs": [],
   "source": [
    "# Define the mapping for the selected categories\n",
    "race_mapping = {\n",
    "    1: \"White\",\n",
    "    2: \"Black or African-American\",\n",
    "    3: \"Asian\",\n",
    "    4: \"American Indian or Alaskan Native\",\n",
    "    5: \"Native Hawaiian or Other Pacific Islander\"\n",
    "}\n",
    "\n",
    "# Map the 'Patient Race' column to the corresponding strings\n",
    "df['Patient Race'] = df['Patient Race'].map(race_mapping)\n",
    "\n",
    "# Drop rows where 'Patient Race' is NaN\n",
    "df_cleaned = df.dropna(subset=['Patient Race'])\n",
    "\n",
    "# Ensure unique patients\n",
    "unique_patients = df_cleaned.drop_duplicates(subset=['Subject ID'])\n",
    "\n",
    "# Sample a maximum number of images per patient (1 image per unique patient)\n",
    "sampled_df = unique_patients.sample(n=1000, random_state=42)"
   ]
  },
  {
   "cell_type": "code",
   "execution_count": 4,
   "metadata": {},
   "outputs": [
    {
     "name": "stdout",
     "output_type": "stream",
     "text": [
      "Shape of the cleaned DataFrame: (1000, 16)\n"
     ]
    }
   ],
   "source": [
    "print(\"Shape of the cleaned DataFrame:\", sampled_df.shape)"
   ]
  },
  {
   "cell_type": "code",
   "execution_count": 5,
   "metadata": {},
   "outputs": [],
   "source": [
    "# Convert the 'Patient Race' to integer labels\n",
    "label_mapping = {\n",
    "    \"White\": 0,\n",
    "    \"Black or African-American\": 1,\n",
    "    \"Asian\": 2,\n",
    "    \"American Indian or Alaskan Native\": 3,\n",
    "    \"Native Hawaiian or Other Pacific Islander\": 4\n",
    "}\n",
    "\n",
    "# Map the categorical race labels to numerical values\n",
    "sampled_df['Race_Label'] = sampled_df['Patient Race'].map(label_mapping)\n",
    "\n",
    "# Split the data into training and validation sets (stratified by race)\n",
    "X_train, X_val, y_train, y_val = train_test_split(\n",
    "    sampled_df['File Location'],  # File paths to the DICOM images\n",
    "    sampled_df['Race_Label'],     # Race labels as integers\n",
    "    test_size=0.2, \n",
    "    stratify=sampled_df['Race_Label'], \n",
    "    random_state=42\n",
    ")"
   ]
  },
  {
   "cell_type": "code",
   "execution_count": 6,
   "metadata": {},
   "outputs": [
    {
     "name": "stdout",
     "output_type": "stream",
     "text": [
      "u:\\GitHub\\AI-ethnicity-med-image\n"
     ]
    }
   ],
   "source": [
    "current_path = os.getcwd()\n",
    "print(current_path)"
   ]
  },
  {
   "cell_type": "code",
   "execution_count": 7,
   "metadata": {},
   "outputs": [
    {
     "name": "stdout",
     "output_type": "stream",
     "text": [
      "E:\\Data\\NLST\\Radiology CT Images\\manifest-NLST_allCT\n"
     ]
    }
   ],
   "source": [
    "# Change to current directory\n",
    "os.chdir(r'E:\\Data\\NLST\\Radiology CT Images\\manifest-NLST_allCT')\n",
    "print(os.getcwd())"
   ]
  },
  {
   "cell_type": "code",
   "execution_count": 8,
   "metadata": {},
   "outputs": [],
   "source": [
    "# Preprocess images for model input\n",
    "def preprocess_images(file_paths, labels):\n",
    "    image_data = []\n",
    "    processed_labels = []\n",
    "    for file_path, label in zip(file_paths, labels):\n",
    "        dicom_folder = file_path  # Path to the folder containing DICOM images\n",
    "        dicom_files = [f for f in os.listdir(dicom_folder) if f.endswith('.dcm')]  # List DICOM files\n",
    "        \n",
    "        if dicom_files:\n",
    "            for dicom_file in dicom_files:\n",
    "                dicom_path = os.path.join(dicom_folder, dicom_file)\n",
    "                ds = pydicom.dcmread(dicom_path)  # Read the DICOM file\n",
    "                img_array = ds.pixel_array  # Extract pixel array\n",
    "\n",
    "                # Normalize the image\n",
    "                img_array = img_array / np.max(img_array)  # Normalize to [0, 1]\n",
    "\n",
    "                # Resize the image\n",
    "                img = Image.fromarray(img_array)  # Convert to PIL image\n",
    "                img = img.resize((224, 224))  # Resize to 224x224 pixels\n",
    "                img_array_resized = np.array(img)  # Convert back to numpy array\n",
    "                \n",
    "                image_data.append(img_array_resized)\n",
    "                processed_labels.append(label)  # Append the corresponding label\n",
    "    \n",
    "    return np.array(image_data), np.array(processed_labels)"
   ]
  },
  {
   "cell_type": "code",
   "execution_count": 9,
   "metadata": {},
   "outputs": [],
   "source": [
    "# Preprocess images for training and validation sets\n",
    "X_train_images, y_train_labels = preprocess_images(X_train, y_train)\n",
    "X_val_images, y_val_labels = preprocess_images(X_val, y_val)\n",
    "\n",
    "# Expand dimensions to match the input shape of the EfficientNet model\n",
    "X_train_images = np.expand_dims(X_train_images, axis=-1)\n",
    "X_val_images = np.expand_dims(X_val_images, axis=-1)\n",
    "\n",
    "# Repeat the channel to make it 3-channel (RGB) to be compatible with EfficientNet\n",
    "X_train_images = np.repeat(X_train_images, 3, axis=-1)\n",
    "X_val_images = np.repeat(X_val_images, 3, axis=-1)\n"
   ]
  },
  {
   "cell_type": "code",
   "execution_count": 10,
   "metadata": {},
   "outputs": [],
   "source": [
    "import tensorflow as tf\n",
    "from tensorflow.keras.applications import EfficientNetB0\n",
    "from tensorflow.keras.layers import Dense, Flatten, Dropout\n",
    "from tensorflow.keras.models import Model\n",
    "from tensorflow.keras.optimizers import Adam"
   ]
  },
  {
   "cell_type": "code",
   "execution_count": 12,
   "metadata": {},
   "outputs": [],
   "source": [
    "# Load the pre-trained EfficientNetB0 model without the top layer\n",
    "base_model = EfficientNetB0(weights='imagenet', include_top=False, input_shape=(224, 224, 3))\n",
    "\n",
    "# Freeze the base model\n",
    "base_model.trainable = False\n",
    "\n",
    "# Add custom layers on top of the pre-trained model\n",
    "x = base_model.output\n",
    "x = Flatten()(x)  # Flatten the output\n",
    "x = Dense(512, activation='relu')(x)  # Fully connected layer\n",
    "x = Dropout(0.5)(x)  # Dropout for regularization\n",
    "num_classes = 5\n",
    "output = Dense(num_classes, activation='softmax')(x)  # Output layer with softmax activation for multiclass classification"
   ]
  },
  {
   "cell_type": "code",
   "execution_count": 13,
   "metadata": {},
   "outputs": [
    {
     "name": "stderr",
     "output_type": "stream",
     "text": [
      "c:\\Users\\yuting.tseng\\AppData\\Local\\anaconda3\\envs\\dicom_env\\lib\\site-packages\\keras\\optimizer_v2\\optimizer_v2.py:356: UserWarning: The `lr` argument is deprecated, use `learning_rate` instead.\n",
      "  \"The `lr` argument is deprecated, use `learning_rate` instead.\")\n"
     ]
    },
    {
     "name": "stdout",
     "output_type": "stream",
     "text": [
      "Epoch 1/10\n",
      "1060/1060 [==============================] - 1855s 2s/step - loss: 0.8307 - accuracy: 0.9203 - val_loss: 0.4151 - val_accuracy: 0.9035\n",
      "Epoch 2/10\n",
      "1060/1060 [==============================] - 2077s 2s/step - loss: 0.3589 - accuracy: 0.9269 - val_loss: 0.3667 - val_accuracy: 0.9035\n",
      "Epoch 3/10\n",
      "1060/1060 [==============================] - 2052s 2s/step - loss: 0.3402 - accuracy: 0.9275 - val_loss: 0.3508 - val_accuracy: 0.9035\n",
      "Epoch 4/10\n",
      "1060/1060 [==============================] - 2058s 2s/step - loss: 0.3229 - accuracy: 0.9275 - val_loss: 0.3688 - val_accuracy: 0.9035\n",
      "Epoch 5/10\n",
      "1060/1060 [==============================] - 2055s 2s/step - loss: 0.3107 - accuracy: 0.9275 - val_loss: 0.3543 - val_accuracy: 0.9035\n",
      "Epoch 6/10\n",
      "1060/1060 [==============================] - 2051s 2s/step - loss: 0.3062 - accuracy: 0.9275 - val_loss: 0.3480 - val_accuracy: 0.9035\n",
      "Epoch 7/10\n",
      "1060/1060 [==============================] - 2052s 2s/step - loss: 0.3050 - accuracy: 0.9275 - val_loss: 0.3445 - val_accuracy: 0.9035\n",
      "Epoch 8/10\n",
      "1060/1060 [==============================] - 2079s 2s/step - loss: 0.3068 - accuracy: 0.9271 - val_loss: 0.3450 - val_accuracy: 0.9035\n",
      "Epoch 9/10\n",
      "1060/1060 [==============================] - 2043s 2s/step - loss: 0.3044 - accuracy: 0.9275 - val_loss: 0.3431 - val_accuracy: 0.9035\n",
      "Epoch 10/10\n",
      "1060/1060 [==============================] - 2043s 2s/step - loss: 0.3043 - accuracy: 0.9275 - val_loss: 0.3431 - val_accuracy: 0.9035\n"
     ]
    },
    {
     "name": "stderr",
     "output_type": "stream",
     "text": [
      "c:\\Users\\yuting.tseng\\AppData\\Local\\anaconda3\\envs\\dicom_env\\lib\\site-packages\\keras\\utils\\generic_utils.py:497: CustomMaskWarning: Custom mask layers require a config and must override get_config. When loading, the custom mask layer must be passed to the custom_objects argument.\n",
      "  category=CustomMaskWarning)\n"
     ]
    }
   ],
   "source": [
    "# Create the complete model\n",
    "model = Model(inputs=base_model.input, outputs=output)\n",
    "\n",
    "# Compile the model\n",
    "model.compile(optimizer=Adam(lr=0.001), loss='sparse_categorical_crossentropy', metrics=['accuracy'])\n",
    "\n",
    "# Train the model on the preprocessed images\n",
    "history = model.fit(X_train_images, y_train_labels, validation_data=(X_val_images, y_val_labels), epochs=10, batch_size=32)\n",
    "\n",
    "# Save the model\n",
    "model.save('ethnicity_classification_model.h5')"
   ]
  }
 ],
 "metadata": {
  "kernelspec": {
   "display_name": "dicom_env",
   "language": "python",
   "name": "python3"
  },
  "language_info": {
   "codemirror_mode": {
    "name": "ipython",
    "version": 3
   },
   "file_extension": ".py",
   "mimetype": "text/x-python",
   "name": "python",
   "nbconvert_exporter": "python",
   "pygments_lexer": "ipython3",
   "version": "3.6.13"
  }
 },
 "nbformat": 4,
 "nbformat_minor": 2
}
