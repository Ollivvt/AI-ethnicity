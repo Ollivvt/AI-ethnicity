{
 "cells": [
  {
   "cell_type": "code",
   "execution_count": 1,
   "metadata": {},
   "outputs": [],
   "source": [
    "import pandas as pd\n",
    "import numpy as np\n",
    "import os"
   ]
  },
  {
   "cell_type": "code",
   "execution_count": 3,
   "metadata": {},
   "outputs": [
    {
     "name": "stderr",
     "output_type": "stream",
     "text": [
      "/tmp/ipykernel_177255/1050564451.py:3: DtypeWarning: Columns (18) have mixed types. Specify dtype option on import or set low_memory=False.\n",
      "  df = pd.read_csv(data_path)\n"
     ]
    }
   ],
   "source": [
    "# Load the CSV file\n",
    "data_path = '/mnt/win_share/GitHub/AI-ethnicity-med-image/data/NLST_CT_withPID.csv'\n",
    "df = pd.read_csv(data_path)"
   ]
  },
  {
   "cell_type": "code",
   "execution_count": 4,
   "metadata": {},
   "outputs": [],
   "source": [
    "# Count occurrences of each unique race in the original dataset\n",
    "original_race_counts = df['Patient Race'].value_counts(dropna=False)"
   ]
  },
  {
   "cell_type": "code",
   "execution_count": 5,
   "metadata": {},
   "outputs": [],
   "source": [
    "race_mapping_full = {\n",
    "    1: \"White\",\n",
    "    2: \"Black or African-American\",\n",
    "    3: \"Asian\",\n",
    "    4: \"American Indian or Alaskan Native\",\n",
    "    5: \"Native Hawaiian or Other Pacific Islander\",\n",
    "    6: \"More than one race\",\n",
    "    7: \"Participant refused to answer\",\n",
    "    np.nan: \"Unknown/Not Recorded\"  # Including NaN for any missing entries\n",
    "}"
   ]
  },
  {
   "cell_type": "code",
   "execution_count": 6,
   "metadata": {},
   "outputs": [],
   "source": [
    "# Map the 'Patient Race' column to the corresponding strings for readability\n",
    "df['Patient Race'] = df['Patient Race'].map(race_mapping_full)\n",
    "\n",
    "# Count total images per race\n",
    "image_counts = df['Patient Race'].value_counts(dropna=False)\n",
    "\n",
    "# Count unique patients per race\n",
    "patient_counts = df.drop_duplicates(subset=['Subject ID']).groupby('Patient Race').size()"
   ]
  },
  {
   "cell_type": "code",
   "execution_count": 7,
   "metadata": {},
   "outputs": [
    {
     "name": "stdout",
     "output_type": "stream",
     "text": [
      "Total images per race in the original dataset (including all categories):\n",
      "Patient Race\n",
      "White                                        187423\n",
      "Black or African-American                      7948\n",
      "Asian                                          3391\n",
      "More than one race                             2361\n",
      "American Indian or Alaskan Native               658\n",
      "Native Hawaiian or Other Pacific Islander       516\n",
      "Participant refused to answer                   463\n",
      "NaN                                             339\n",
      "Name: count, dtype: int64\n",
      "\n",
      "Unique patients per race in the original dataset (including all categories):\n",
      "Patient Race\n",
      "American Indian or Alaskan Native               88\n",
      "Asian                                          547\n",
      "Black or African-American                     1135\n",
      "More than one race                             327\n",
      "Native Hawaiian or Other Pacific Islander       87\n",
      "Participant refused to answer                   52\n",
      "White                                        23969\n",
      "dtype: int64\n"
     ]
    }
   ],
   "source": [
    "# Display the results\n",
    "print(\"Total images per race in the original dataset (including all categories):\")\n",
    "print(image_counts)\n",
    "\n",
    "print(\"\\nUnique patients per race in the original dataset (including all categories):\")\n",
    "print(patient_counts)"
   ]
  }
 ],
 "metadata": {
  "kernelspec": {
   "display_name": "myenv",
   "language": "python",
   "name": "python3"
  },
  "language_info": {
   "codemirror_mode": {
    "name": "ipython",
    "version": 3
   },
   "file_extension": ".py",
   "mimetype": "text/x-python",
   "name": "python",
   "nbconvert_exporter": "python",
   "pygments_lexer": "ipython3",
   "version": "3.8.10"
  }
 },
 "nbformat": 4,
 "nbformat_minor": 2
}
